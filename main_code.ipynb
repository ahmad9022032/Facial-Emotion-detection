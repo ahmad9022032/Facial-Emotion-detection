{
 "cells": [
  {
   "cell_type": "code",
   "execution_count": 15,
   "metadata": {},
   "outputs": [],
   "source": [
    "import cv2\n",
    "import numpy as np\n",
    "from keras.models import load_model"
   ]
  },
  {
   "cell_type": "code",
   "execution_count": 16,
   "metadata": {},
   "outputs": [],
   "source": [
    "model=load_model('model_file_30epochs.h5')"
   ]
  },
  {
   "cell_type": "code",
   "execution_count": 17,
   "metadata": {},
   "outputs": [],
   "source": [
    "video=cv2.VideoCapture(0)"
   ]
  },
  {
   "cell_type": "code",
   "execution_count": 18,
   "metadata": {},
   "outputs": [],
   "source": [
    "faceDetect=cv2.CascadeClassifier('haarcascade_frontalface_default.xml')\n"
   ]
  },
  {
   "cell_type": "code",
   "execution_count": 19,
   "metadata": {},
   "outputs": [],
   "source": [
    "labels_dict={0:'Angry',1:'Disgust', 2:'Fear', 3:'Happy',4:'Neutral',5:'Sad',6:'Surprise'}\n"
   ]
  },
  {
   "cell_type": "code",
   "execution_count": 21,
   "metadata": {},
   "outputs": [
    {
     "name": "stdout",
     "output_type": "stream",
     "text": [
      "1/1 [==============================] - 0s 20ms/step\n",
      "4\n",
      "1/1 [==============================] - 0s 16ms/step\n",
      "4\n",
      "1/1 [==============================] - 0s 16ms/step\n",
      "4\n",
      "1/1 [==============================] - 0s 33ms/step\n",
      "4\n",
      "1/1 [==============================] - 0s 35ms/step\n",
      "4\n",
      "1/1 [==============================] - 0s 18ms/step\n",
      "4\n",
      "1/1 [==============================] - 0s 26ms/step\n",
      "4\n",
      "1/1 [==============================] - 0s 20ms/step\n",
      "4\n",
      "1/1 [==============================] - 0s 24ms/step\n",
      "4\n",
      "1/1 [==============================] - 0s 33ms/step\n",
      "4\n",
      "1/1 [==============================] - 0s 36ms/step\n",
      "4\n",
      "1/1 [==============================] - 0s 25ms/step\n",
      "4\n",
      "1/1 [==============================] - 0s 28ms/step\n",
      "4\n",
      "1/1 [==============================] - 0s 15ms/step\n",
      "2\n",
      "1/1 [==============================] - 0s 17ms/step\n",
      "4\n",
      "1/1 [==============================] - 0s 20ms/step\n",
      "4\n",
      "1/1 [==============================] - 0s 22ms/step\n",
      "4\n",
      "1/1 [==============================] - 0s 23ms/step\n",
      "4\n",
      "1/1 [==============================] - 0s 21ms/step\n",
      "4\n",
      "1/1 [==============================] - 0s 21ms/step\n",
      "4\n",
      "1/1 [==============================] - 0s 26ms/step\n",
      "4\n",
      "1/1 [==============================] - 0s 22ms/step\n",
      "4\n",
      "1/1 [==============================] - 0s 29ms/step\n",
      "4\n",
      "1/1 [==============================] - 0s 29ms/step\n",
      "4\n",
      "1/1 [==============================] - 0s 33ms/step\n",
      "4\n",
      "1/1 [==============================] - 0s 32ms/step\n",
      "4\n",
      "1/1 [==============================] - 0s 17ms/step\n",
      "4\n",
      "1/1 [==============================] - 0s 25ms/step\n",
      "4\n",
      "1/1 [==============================] - 0s 24ms/step\n",
      "4\n",
      "1/1 [==============================] - 0s 22ms/step\n",
      "4\n",
      "1/1 [==============================] - 0s 32ms/step\n",
      "4\n",
      "1/1 [==============================] - 0s 25ms/step\n",
      "4\n",
      "1/1 [==============================] - 0s 19ms/step\n",
      "4\n",
      "1/1 [==============================] - 0s 24ms/step\n",
      "4\n",
      "1/1 [==============================] - 0s 24ms/step\n",
      "4\n",
      "1/1 [==============================] - 0s 22ms/step\n",
      "4\n",
      "1/1 [==============================] - 0s 24ms/step\n",
      "4\n",
      "1/1 [==============================] - 0s 33ms/step\n",
      "4\n",
      "1/1 [==============================] - 0s 30ms/step\n",
      "4\n",
      "1/1 [==============================] - 0s 13ms/step\n",
      "4\n",
      "1/1 [==============================] - 0s 19ms/step\n",
      "4\n",
      "1/1 [==============================] - 0s 25ms/step\n",
      "4\n",
      "1/1 [==============================] - 0s 21ms/step\n",
      "4\n",
      "1/1 [==============================] - 0s 12ms/step\n",
      "4\n",
      "1/1 [==============================] - 0s 20ms/step\n",
      "4\n",
      "1/1 [==============================] - 0s 19ms/step\n",
      "3\n",
      "1/1 [==============================] - 0s 31ms/step\n",
      "3\n",
      "1/1 [==============================] - 0s 30ms/step\n",
      "3\n",
      "1/1 [==============================] - 0s 28ms/step\n",
      "3\n",
      "1/1 [==============================] - 0s 25ms/step\n",
      "3\n",
      "1/1 [==============================] - 0s 25ms/step\n",
      "3\n",
      "1/1 [==============================] - 0s 31ms/step\n",
      "4\n",
      "1/1 [==============================] - 0s 32ms/step\n",
      "4\n"
     ]
    }
   ],
   "source": [
    "video=cv2.VideoCapture(0)\n",
    "while True:\n",
    "    ret,frame=video.read()\n",
    "    gray=cv2.cvtColor(frame, cv2.COLOR_BGR2GRAY)\n",
    "    faces= faceDetect.detectMultiScale(gray, 1.3, 3)\n",
    "    for x,y,w,h in faces:\n",
    "        sub_face_img=gray[y:y+h, x:x+w]\n",
    "        resized=cv2.resize(sub_face_img,(48,48))\n",
    "        normalize=resized/255.0\n",
    "        reshaped=np.reshape(normalize, (1, 48, 48, 1))\n",
    "        result=model.predict(reshaped)\n",
    "        label=np.argmax(result, axis=1)[0]\n",
    "        print(label)\n",
    "        cv2.rectangle(frame, (x,y), (x+w, y+h), (0,0,255), 1)\n",
    "        cv2.rectangle(frame,(x,y),(x+w,y+h),(50,50,255),2)\n",
    "        cv2.rectangle(frame,(x,y-40),(x+w,y),(50,50,255),-1)\n",
    "        cv2.putText(frame, labels_dict[label], (x, y-10),cv2.FONT_HERSHEY_SIMPLEX,0.8,(255,255,255),2)\n",
    "        \n",
    "    cv2.imshow(\"Frame\",frame)\n",
    "    k=cv2.waitKey(1)\n",
    "    if k==ord('q'):\n",
    "        break\n",
    "video.release()\n",
    "cv2.destroyAllWindows()\n"
   ]
  },
  {
   "cell_type": "code",
   "execution_count": null,
   "metadata": {},
   "outputs": [],
   "source": []
  }
 ],
 "metadata": {
  "kernelspec": {
   "display_name": "Python 3",
   "language": "python",
   "name": "python3"
  },
  "language_info": {
   "codemirror_mode": {
    "name": "ipython",
    "version": 3
   },
   "file_extension": ".py",
   "mimetype": "text/x-python",
   "name": "python",
   "nbconvert_exporter": "python",
   "pygments_lexer": "ipython3",
   "version": "3.11.0"
  }
 },
 "nbformat": 4,
 "nbformat_minor": 2
}
